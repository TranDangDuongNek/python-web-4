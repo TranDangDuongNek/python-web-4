{
 "cells": [
  {
   "cell_type": "markdown",
   "id": "92e49504",
   "metadata": {},
   "source": [
    "# CẤU TRÚC PHẦN TỰ"
   ]
  },
  {
   "cell_type": "markdown",
   "id": "48de8274",
   "metadata": {},
   "source": [
    "- Chạy code từ dòng trên xuống dòng dưới \n",
    "- Nếu đồng trên sai -> lập tức dừng các dòng lạnh dưới"
   ]
  },
  {
   "cell_type": "code",
   "execution_count": 4,
   "id": "998a6cea",
   "metadata": {},
   "outputs": [
    {
     "name": "stdout",
     "output_type": "stream",
     "text": [
      "1\n"
     ]
    },
    {
     "ename": "ValueError",
     "evalue": "invalid literal for int() with base 10: 'abc'",
     "output_type": "error",
     "traceback": [
      "\u001b[31m---------------------------------------------------------------------------\u001b[39m",
      "\u001b[31mValueError\u001b[39m                                Traceback (most recent call last)",
      "\u001b[36mCell\u001b[39m\u001b[36m \u001b[39m\u001b[32mIn[4]\u001b[39m\u001b[32m, line 2\u001b[39m\n\u001b[32m      1\u001b[39m \u001b[38;5;28mprint\u001b[39m(\u001b[32m1\u001b[39m)\n\u001b[32m----> \u001b[39m\u001b[32m2\u001b[39m \u001b[38;5;28mprint\u001b[39m(\u001b[38;5;28;43mint\u001b[39;49m\u001b[43m(\u001b[49m\u001b[33;43m\"\u001b[39;49m\u001b[33;43mabc\u001b[39;49m\u001b[33;43m\"\u001b[39;49m\u001b[43m)\u001b[49m)  \u001b[38;5;66;03m# vì dòng này sai -> không chạy tiếp\u001b[39;00m\n\u001b[32m      3\u001b[39m \u001b[38;5;28mprint\u001b[39m(\u001b[32m2\u001b[39m)\n",
      "\u001b[31mValueError\u001b[39m: invalid literal for int() with base 10: 'abc'"
     ]
    }
   ],
   "source": [
    "print(1)\n",
    "print(int(\"abc\"))  # vì dòng này sai -> không chạy tiếp\n",
    "print(2)\n"
   ]
  },
  {
   "cell_type": "markdown",
   "id": "2ed9d7cb",
   "metadata": {},
   "source": [
    "# CẤU TRÚC RẺ NHÁNH"
   ]
  },
  {
   "cell_type": "markdown",
   "id": "d68677d8",
   "metadata": {},
   "source": [
    "## if - elif - else"
   ]
  },
  {
   "cell_type": "code",
   "execution_count": null,
   "id": "7283c623",
   "metadata": {},
   "outputs": [],
   "source": [
    "# Viết tắt cấu trúc if - else\n",
    "\"abc\" if True else \"xyz\" # nếu True thì in ra \"abc\", nếu False thì in ra \"xyz\"\n",
    "\"abc\" or \"\" # có thể áp dụng toán tử logic\n",
    "\n",
    "# Viết tắt câu lệnh if 1 dòng\n",
    "if True: print(\"abc\")\n",
    "\n",
    "# if - elif - else (kiểm tra khoảng)\n",
    "x = 10\n",
    "if 0 <= x <= 100:\n",
    "    print(\"x nằm trong khoảng từ 0 đến 100\")\n",
    "elif 100 < x <= 200:\n",
    "    print(\"x nằm trong khoảng từ 100 đến 200\") \n",
    "else:\n",
    "    print(\"x không hợp lệ!\")\n"
   ]
  },
  {
   "cell_type": "markdown",
   "id": "2e16382a",
   "metadata": {},
   "source": [
    "## TRY EXEPT\n",
    "Thường dùng để bắt lỗi cho chương trình\n",
    "=>  **ko cần dừng chương trình đang hoạt đông**"
   ]
  },
  {
   "cell_type": "code",
   "execution_count": null,
   "id": "c3b2e674",
   "metadata": {},
   "outputs": [],
   "source": [
    "# Kiểm tra kiểu dữ liệu nhập vào\n",
    "age = input(\"Nhập tuổi của bạn: \") # return kiểu str\n",
    "try:\n",
    "    age = int(age) # Chuyển đổi sang kiểu int\n",
    "    if age < 0:\n",
    "        raise ValueError(\"Tuổi không thể là số âm\")\n",
    "except Exception as e:\n",
    "    print(f\"Lỗi: {e}\")\n",
    "finally: # Dòng này sẽ luôn chạy dù có lỗi hay không\n",
    "    print(\"Kết thúc chương trình kiểm tra tuổi.\")"
   ]
  },
  {
   "cell_type": "markdown",
   "id": "436f87c4",
   "metadata": {},
   "source": [
    "# CẤU TRÚC LẬP"
   ]
  },
  {
   "cell_type": "markdown",
   "id": "689233a7",
   "metadata": {},
   "source": [
    "## for (thg dùng vs danh sách)"
   ]
  },
  {
   "cell_type": "markdown",
   "id": "e1942c55",
   "metadata": {},
   "source": [
    "**range(stra, stop, step)**\n",
    "- range(stop): chạy từ @ -> stop - 1, mỗi lần cộng don 1 đơn vị \n",
    "- range(start, stop): start -> stop - 1, mỗi lần cộng don 1 đơn vị \n",
    "- range(start, stop, step): start -> stop - 1, mỗi lần cộng dồn step đơn vị"
   ]
  },
  {
   "cell_type": "code",
   "execution_count": null,
   "id": "11eb9528",
   "metadata": {},
   "outputs": [],
   "source": [
    "# Đếm ngược thời gian\n",
    "import time\n",
    "for sec in range(10, 0, -1):\n",
    "    print(sec)\n",
    "    time.sleep(1) # Dừng 1 giây trước khi in ký tự tiếp theo\n",
    "print(\"Chúc mừng năm mới!\")\n"
   ]
  },
  {
   "cell_type": "code",
   "execution_count": null,
   "id": "86b828b5",
   "metadata": {},
   "outputs": [],
   "source": [
    "fruits = [\"apple\", \"banana\", \"cherry\"]\n",
    "for index, value in enumerate(fruits):\n",
    "    print(f\"Phần tử thứ {index} là {value}\")\n"
   ]
  },
  {
   "cell_type": "markdown",
   "id": "8abe5a2b",
   "metadata": {},
   "source": [
    "## while\n",
    "thg dùng trong các trường hợp **ko xác định số lần lập**"
   ]
  },
  {
   "cell_type": "code",
   "execution_count": 6,
   "id": "6bda0ab7",
   "metadata": {},
   "outputs": [
    {
     "name": "stdout",
     "output_type": "stream",
     "text": [
      "Tuổi của bạn là: 15\n"
     ]
    }
   ],
   "source": [
    "# Kiểm tra tính hợp lệ khi nhập dữ liệu\n",
    "age = int(input(\"Nhập tuổi của bạn (phải là số dương): \"))\n",
    "while age < 0:\n",
    "    print(\"Lỗi: Tuổi phải là số dương.\")\n",
    "    try:\n",
    "        age = int(input(\"Nhập tuổi của bạn (phải là số dương): \"))\n",
    "    except Exception as e:\n",
    "        print(f\"Lỗi: {e}\")\n",
    "        age = -1  # Đặt lại age để tiếp tục vòng lặp\n",
    "        \n",
    "print(f\"Tuổi của bạn là: {age}\")"
   ]
  }
 ],
 "metadata": {
  "kernelspec": {
   "display_name": "Python 3",
   "language": "python",
   "name": "python3"
  },
  "language_info": {
   "codemirror_mode": {
    "name": "ipython",
    "version": 3
   },
   "file_extension": ".py",
   "mimetype": "text/x-python",
   "name": "python",
   "nbconvert_exporter": "python",
   "pygments_lexer": "ipython3",
   "version": "3.11.9"
  }
 },
 "nbformat": 4,
 "nbformat_minor": 5
}
