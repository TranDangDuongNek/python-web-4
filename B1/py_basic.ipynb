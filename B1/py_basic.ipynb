{
 "cells": [
  {
   "cell_type": "markdown",
   "id": "59755fe8",
   "metadata": {},
   "source": [
    "## xuất dữ liệu\n",
    "- print(a,b,c)\n",
    "- print(...., end=\", \") # không gọi end -> mặc định cách nhau bằng 1 xuống dòng"
   ]
  },
  {
   "cell_type": "code",
   "execution_count": 1,
   "id": "4fec4728",
   "metadata": {},
   "outputs": [
    {
     "name": "stdout",
     "output_type": "stream",
     "text": [
      "abc\n",
      "nah 1, "
     ]
    }
   ],
   "source": [
    "## xuất dữ liệu\n",
    "print(\"abc\")\n",
    "print(\"nah\",1, end=\", \") # không gọi end -> mặc định cách nhau bằng 1 xuống dòng\n"
   ]
  },
  {
   "cell_type": "markdown",
   "id": "57d4ed66",
   "metadata": {},
   "source": [
    "## nhập dữ liệu\n",
    "- input(): trả về giá trị là **string**\n",
    "- input(\"Yêu cầu nhập vào: \")"
   ]
  },
  {
   "cell_type": "code",
   "execution_count": 2,
   "id": "1945c774",
   "metadata": {},
   "outputs": [
    {
     "name": "stdout",
     "output_type": "stream",
     "text": [
      "<class 'str'>\n"
     ]
    }
   ],
   "source": [
    "\n",
    "sky = input(\"nếu như 1 con gà mà mọc thêm 2 chân thì con gà nhiêu chân?:\")\n",
    "print(type(sky))"
   ]
  },
  {
   "cell_type": "markdown",
   "id": "30c201fb",
   "metadata": {},
   "source": [
    "## Kiểu dữ liệu cơ bản\n",
    "- **int**: kiểu số nguyên => 1\n",
    "- **float**: kiểu số thực => 1.3\n",
    "- **string**: kiểu chuỗi => \"abc+- \"\n",
    "- **boolean**: kiểu đúng sai => true/ false"
   ]
  },
  {
   "cell_type": "code",
   "execution_count": 3,
   "id": "1bf90b95",
   "metadata": {},
   "outputs": [
    {
     "name": "stdout",
     "output_type": "stream",
     "text": [
      "<class 'bool'> <class 'str'>\n",
      "0.30000000000000004\n"
     ]
    }
   ],
   "source": [
    "print(type(True), type(\"string\")) \n",
    "print(0.1 + 0.2)"
   ]
  },
  {
   "cell_type": "markdown",
   "id": "5650e41a",
   "metadata": {},
   "source": [
    "### Toán tử số học\n",
    "- Cộng (+)\n",
    "- Trừ (-)\n",
    "- Nhân (*)\n",
    "- Chia (/)\n",
    "- Chia lấy nguyên (//)\n",
    "- Chia lấy dư (%)\n",
    "- Lũy thừa (**)\n",
    "-**Lưu ý**: \n",
    "***Kiểu float có phạm vi lớn hơn kiểu int. Nếu phép tính có cả float và int thì kết quả sẽ có kiểu float.***\n",
    " Không thao tác với 2 vế **khác kiểu dữ liệu**\n"
   ]
  },
  {
   "cell_type": "code",
   "execution_count": 4,
   "id": "153c2cdd",
   "metadata": {},
   "outputs": [
    {
     "name": "stdout",
     "output_type": "stream",
     "text": [
      "Age28\n",
      "aaa\n",
      "<class 'int'>\n",
      "<class 'float'>\n"
     ]
    }
   ],
   "source": [
    "print(\"Age\" + str(28)) # chuyen kieu du lieu ve string\n",
    "print(\"a\"*3) # aaa\n",
    "print(type(10%3)) # chia lay nguyen/ du => int\n",
    "print(type(10/2)) # chia thuong => float"
   ]
  },
  {
   "cell_type": "markdown",
   "id": "12cec5b0",
   "metadata": {},
   "source": [
    "### Toán tử so sánh\n",
    "- Lớn hơn (>)\n",
    "- Lớn hơn hoặc bằng (>=)\n",
    "- Bé hơn (<)\n",
    "- Bé hơn hoặc bằng (<=)\n",
    "- Bằng (==)\n",
    "- Khác (!=)\n",
    "- **Lưu ý:**\n",
    "  - Trả về giá trị **boolean**\n",
    "  - Khi so sánh, chỉ xét **2 vế liền kề, từ trái sang phải**\n"
   ]
  },
  {
   "cell_type": "markdown",
   "id": "9fb47250",
   "metadata": {},
   "source": [
    "### Toán tử so sánh\n",
    "- Lớn hơn (>)\n",
    "- Lớn hơn hoặc bằng (>=)\n",
    "- Bé hơn (<)\n",
    "- Bé hơn hoặc bằng (<=)\n",
    "- Bằng (==)\n",
    "- Khác (!=)\n",
    "- **Lưu ý:**\n",
    "  - Trả về giá trị **boolean**\n",
    "  - Khi so sánh, chỉ xét **2 vế liền kề, từ trái sang phải**\n",
    "---------------\n",
    "### Toán tử logic\n",
    "- **and**: và (lấy vế False gần nhất, nếu không có False => lấy vế True cuối cùng)\n",
    "- **or**: hoặc (lấy vế True gần nhất, nếu không có True => lấy vế False cuối cùng)\n",
    "- **not**: phủ định\n",
    "- **Lưu ý:**\n",
    "  - 2 vế trái phải đều phải chuyển về kiểu dữ liệu **boolean**\n",
    "  - Trả về giá trị **boolean**\n",
    "  - Khi so sánh, chỉ xét **2 vế liền kề, từ trái sang phải**"
   ]
  },
  {
   "cell_type": "markdown",
   "id": "cac2c901",
   "metadata": {},
   "source": [
    "**Truly, Falsy:** Những giá trị trả về False khi chuyển kiểu thành **boolean**:\n",
    "- \"\": chuỗi rỗng\n",
    "- 0, 0.0\n",
    "- False\n",
    "- None\n",
    "- [], (), {}, set(): danh sách rỗng"
   ]
  },
  {
   "cell_type": "code",
   "execution_count": 5,
   "id": "d4acd51d",
   "metadata": {},
   "outputs": [
    {
     "name": "stdout",
     "output_type": "stream",
     "text": [
      "1.2\n"
     ]
    }
   ],
   "source": [
    "a = [] # false\n",
    "b = \"abc\" # true\n",
    "c = 1.2 # true\n",
    "d = None # false\n",
    "print(a and b or c or not d) # 1.2\n",
    "# a and b: False\n",
    "# False or c: True\n",
    "# not d: True\n",
    "# True or True: True"
   ]
  },
  {
   "cell_type": "markdown",
   "id": "6b37a25e",
   "metadata": {},
   "source": [
    "### CHUYỂN ĐỔI CÁC KIỂU DỮ LIỆU"
   ]
  },
  {
   "cell_type": "markdown",
   "id": "e49a8117",
   "metadata": {},
   "source": [
    "- **tybe()**: Kiểm tra kiểu dữ liệu\n",
    "- **int()**,**float()**: *dữ Liệu chuyển đổi phái là số 0 -> 9 (có dấu . - chí khi là **float** )*\n",
    "- **set()** , **dict()** , **list()** , **tuple()**\n",
    "- **bool()**: *nếu không có giá trị thuộc Falsy thì nó sẽ trả về True, ngược lại là False*\n",
    "- **str()**: *tất cả đều chuyển thành kiểu string được*"
   ]
  },
  {
   "cell_type": "code",
   "execution_count": null,
   "id": "87b0c192",
   "metadata": {},
   "outputs": [],
   "source": [
    "# TH1: int -> float (và ngược lại)\n",
    "print(int(1.2))  # 1 (làm tròn xuống)\n",
    "print(float(1))  # 1.0"
   ]
  },
  {
   "cell_type": "code",
   "execution_count": null,
   "id": "7ae3f841",
   "metadata": {},
   "outputs": [],
   "source": [
    "# TH2: str -> int/float\n",
    "print(int(\"123.456\"))  # error: không nhận được dấu ."
   ]
  },
  {
   "cell_type": "code",
   "execution_count": null,
   "id": "c9ca2b76",
   "metadata": {},
   "outputs": [],
   "source": [
    "# TH3: các kiểu khác -> danh sách (set, tuple, dict, list)\n",
    "print(list(\"abc\"))  # ['a', 'b', 'c']\n",
    "print(set(\"abca\"))  # {'a', 'b', 'c'} (set không có thứ tự, không trùng lặp)\n",
    "\n",
    "# Lưu ý: không thể chuyển các kiểu khác (ngoại trừ string) sang kiểu danh sách\n"
   ]
  }
 ],
 "metadata": {
  "kernelspec": {
   "display_name": "Python 3",
   "language": "python",
   "name": "python3"
  },
  "language_info": {
   "codemirror_mode": {
    "name": "ipython",
    "version": 3
   },
   "file_extension": ".py",
   "mimetype": "text/x-python",
   "name": "python",
   "nbconvert_exporter": "python",
   "pygments_lexer": "ipython3",
   "version": "3.11.9"
  }
 },
 "nbformat": 4,
 "nbformat_minor": 5
}
