{
 "cells": [
  {
   "cell_type": "code",
   "execution_count": 6,
   "id": "ddd6c55c",
   "metadata": {},
   "outputs": [],
   "source": [
    "de = {0: \"\", 1: \"\"} \n",
    "li = [\"a\", \"b\", \"c\", \"d\"]"
   ]
  },
  {
   "cell_type": "code",
   "execution_count": 5,
   "id": "ecb10eb8",
   "metadata": {},
   "outputs": [
    {
     "name": "stdout",
     "output_type": "stream",
     "text": [
      "[1, 4, 9, 16, 25]\n"
     ]
    }
   ],
   "source": [
    "numbers = [1, 2, 3, 4, 5]\n",
    "squared_numbers = list(map(lambda x: x**2, numbers))\n",
    "print(squared_numbers)  # Output: [1, 4, 9, 16, 25]\n"
   ]
  },
  {
   "cell_type": "code",
   "execution_count": 8,
   "id": "ff7010ab",
   "metadata": {},
   "outputs": [
    {
     "ename": "ModuleNotFoundError",
     "evalue": "No module named 'faker'",
     "output_type": "error",
     "traceback": [
      "\u001b[31m---------------------------------------------------------------------------\u001b[39m",
      "\u001b[31mModuleNotFoundError\u001b[39m                       Traceback (most recent call last)",
      "\u001b[36mCell\u001b[39m\u001b[36m \u001b[39m\u001b[32mIn[8]\u001b[39m\u001b[32m, line 1\u001b[39m\n\u001b[32m----> \u001b[39m\u001b[32m1\u001b[39m \u001b[38;5;28;01mfrom\u001b[39;00m\u001b[38;5;250m \u001b[39m\u001b[34;01mfaker\u001b[39;00m\u001b[38;5;250m \u001b[39m\u001b[38;5;28;01mimport\u001b[39;00m Faker\n\u001b[32m      2\u001b[39m name_list = [faker.name() \u001b[38;5;28;01mfor\u001b[39;00m _ \u001b[38;5;129;01min\u001b[39;00m \u001b[38;5;28mrange\u001b[39m(\u001b[32m20\u001b[39m)]\n",
      "\u001b[31mModuleNotFoundError\u001b[39m: No module named 'faker'"
     ]
    }
   ],
   "source": [
    "from faker import Faker\n",
    "name_list = [faker.name() for _ in range(20)]\n",
    "\n"
   ]
  },
  {
   "cell_type": "code",
   "execution_count": 9,
   "id": "104591d8",
   "metadata": {},
   "outputs": [],
   "source": [
    "names = [\n",
    "    \"Emma Johnson\",\n",
    "    \"Liam Smith\",\n",
    "    \"Olivia Brown\",\n",
    "    \"Noah Garcia\",\n",
    "    \"Ava Martinez\",\n",
    "    \"Elijah Davis\",\n",
    "    \"Sophia Taylor\",\n",
    "    \"James Miller\",\n",
    "    \"Isabella Wilson\",\n",
    "    \"Benjamin Anderson\",\n",
    "    \"Mia Thomas\",\n",
    "    \"Lucas Moore\",\n",
    "    \"Charlotte Martin\",\n",
    "    \"Henry Lee\",\n",
    "    \"Amelia White\",\n",
    "    \"Alexander Harris\",\n",
    "    \"Harper Clark\",\n",
    "    \"Ethan Lewis\",\n",
    "    \"Evelyn Young\",\n",
    "    \"William Hall\"\n",
    "]"
   ]
  },
  {
   "cell_type": "code",
   "execution_count": 12,
   "id": "bfc39ed8",
   "metadata": {},
   "outputs": [
    {
     "ename": "SyntaxError",
     "evalue": "invalid syntax (1348004066.py, line 1)",
     "output_type": "error",
     "traceback": [
      "  \u001b[36mCell\u001b[39m\u001b[36m \u001b[39m\u001b[32mIn[12]\u001b[39m\u001b[32m, line 1\u001b[39m\n\u001b[31m    \u001b[39m\u001b[31mfirst_name = map(lambda fullName: fullName.split()[@].upper(), names)\u001b[39m\n                                                       ^\n\u001b[31mSyntaxError\u001b[39m\u001b[31m:\u001b[39m invalid syntax\n"
     ]
    }
   ],
   "source": [
    "first_name = map(lambda fullName: fullName.split()[@].upper(), names) \n",
    "print(list(first_name) )"
   ]
  },
  {
   "cell_type": "code",
   "execution_count": null,
   "id": "8396730e",
   "metadata": {},
   "outputs": [],
   "source": [
    "# Khởi tạo dictionary\n",
    "dict1 = {}\n",
    "dict2 = dict()\n",
    "student_obj = {\"id\": 1, \"name\": \"John\"}"
   ]
  },
  {
   "cell_type": "code",
   "execution_count": null,
   "id": "684f3b7c",
   "metadata": {},
   "outputs": [],
   "source": [
    "# Truy xuất\n",
    "print(\"Student's name: \", student_obj[\"name\"])\n",
    "print(\"Student's id: \", student_obj.get(\"id\"))\n"
   ]
  },
  {
   "cell_type": "code",
   "execution_count": null,
   "id": "bca4ba02",
   "metadata": {},
   "outputs": [],
   "source": [
    "# Thêm / cập nhật\n",
    "student_obj[\"age\"] = 20\n",
    "student_obj[\"name\"] = \"new name\"  # nếu để trùng key cũ -> cập nhật\n",
    "student_obj\n"
   ]
  },
  {
   "cell_type": "code",
   "execution_count": null,
   "id": "488f4383",
   "metadata": {},
   "outputs": [],
   "source": [
    "student_obj = {\n",
    "    \"name\": \"John\",\n",
    "    \"id\": 101\n",
    "}\n"
   ]
  }
 ],
 "metadata": {
  "kernelspec": {
   "display_name": "Python 3",
   "language": "python",
   "name": "python3"
  },
  "language_info": {
   "codemirror_mode": {
    "name": "ipython",
    "version": 3
   },
   "file_extension": ".py",
   "mimetype": "text/x-python",
   "name": "python",
   "nbconvert_exporter": "python",
   "pygments_lexer": "ipython3",
   "version": "3.11.9"
  }
 },
 "nbformat": 4,
 "nbformat_minor": 5
}
