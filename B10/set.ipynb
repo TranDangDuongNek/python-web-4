{
 "cells": [
  {
   "cell_type": "markdown",
   "id": "372de2e7",
   "metadata": {},
   "source": [
    "## Đặc điểm:\n",
    "- **Không trung lặp** phần từ \n",
    "- Phần tứ **không có thứ tụ** \n",
    "- Có thể thay đổi ( **mutable** )"
   ]
  },
  {
   "cell_type": "code",
   "execution_count": null,
   "id": "612e5873",
   "metadata": {},
   "outputs": [
    {
     "data": {
      "text/plain": [
       "<function print(*args, sep=' ', end='\\n', file=None, flush=False)>"
      ]
     },
     "execution_count": 11,
     "metadata": {},
     "output_type": "execute_result"
    }
   ],
   "source": [
    "# Khai bao\n",
    "set1 = {} # set rong -> khong khai bao co ()\n",
    "print(type(set1))\n",
    "set2 = {\"s\",}\n",
    "\n"
   ]
  },
  {
   "cell_type": "code",
   "execution_count": null,
   "id": "37a48470",
   "metadata": {},
   "outputs": [],
   "source": [
    "# Truy cập phần tử\n",
    "for item in set2:\n",
    "    print(item)"
   ]
  },
  {
   "cell_type": "code",
   "execution_count": null,
   "id": "6c50cb83",
   "metadata": {},
   "outputs": [],
   "source": [
    "# Thêm phần tử\n",
    "set2.add(\"new\")\n",
    "\n",
    "set2.update([\"new1\", \"new2\"])\n",
    "print(set2)"
   ]
  },
  {
   "cell_type": "code",
   "execution_count": null,
   "id": "ef09e1b4",
   "metadata": {},
   "outputs": [],
   "source": [
    "# Xóa (dựa vào giá trị của phần tử)\n",
    "set2.remove(\"apple\")  # không có -> BÁO LỖI\n",
    "set2.discard(\"apple\")  # không có -> không báo lỗi"
   ]
  },
  {
   "cell_type": "markdown",
   "id": "847e82bf",
   "metadata": {},
   "source": [
    "## phép toán\n"
   ]
  },
  {
   "cell_type": "markdown",
   "id": "10054992",
   "metadata": {},
   "source": [
    "### Phép toán:\n",
    "\n",
    "#### Phép hợp (union):\n",
    "- Phép **A ∪ B**: 2 set\n",
    "- Sử dụng hàm: `set.union(set)`\n",
    "- Hoặc sử dụng toán tử `|` (or)\n",
    "- Trả về 1 màng mới chứa tất cả các phần từ của 2 mang ban đầu.\n"
   ]
  },
  {
   "cell_type": "code",
   "execution_count": 12,
   "id": "a9f6efc8",
   "metadata": {},
   "outputs": [
    {
     "name": "stdout",
     "output_type": "stream",
     "text": [
      "Skills need to learned: {'nodejs', 'angular', 'nextjs', 'react', 'flask', 'spring'}\n",
      "Skills need to learned: {'nodejs', 'angular', 'nextjs', 'react', 'flask', 'spring'}\n"
     ]
    }
   ],
   "source": [
    "back_end = {\"nodejs\", \"spring\", \"flask\", \"nextjs\"}\n",
    "front_end = {\"nextjs\", \"nodejs\", \"react\", \"angular\"}\n",
    "print(f\"Skills need to learned: {back_end | front_end}\")\n",
    "print(f\"Skills need to learned: {back_end.union(front_end)}\")\n"
   ]
  },
  {
   "cell_type": "markdown",
   "id": "50b1adaf",
   "metadata": {},
   "source": [
    "### Phép giao (intersection):\n",
    "- Lấy **phần tử có ở cả 2** set.\n",
    "- Sử dụng hàm: **set.intersection(set)**\n",
    "- Hoặc sử dụng toán tử & (and)\n",
    "**Trả về 1 mắng mới** chứa tắt ca các phần từ của 2 mang ban đầu."
   ]
  },
  {
   "cell_type": "code",
   "execution_count": 13,
   "id": "6cf396e8",
   "metadata": {},
   "outputs": [
    {
     "name": "stdout",
     "output_type": "stream",
     "text": [
      "Skills have in both parts: {'nodejs', 'nextjs'}\n",
      "Skills have in both parts: {'nodejs', 'nextjs'}\n"
     ]
    }
   ],
   "source": [
    "print(f\"Skills have in both parts: {back_end & front_end}\") \n",
    "print(f\"Skills have in both parts: {back_end. intersection(front_end) }\")"
   ]
  },
  {
   "cell_type": "markdown",
   "id": "27331f81",
   "metadata": {},
   "source": [
    "### Phép hiệu (subtraction):\n",
    "- **Lấy phần tử của mảng trừ** (A) (không lấy phần tử trùng trong mảng B)\n",
    "- Sử dụng hàm: **set.difference(set)**\n",
    "- Hoặc sử dụng toán tử - (sub)\n",
    "- **Trả về 1 mảng mới** chứa tất cả các phần tử của 2 mảng ban đầu.\n"
   ]
  },
  {
   "cell_type": "code",
   "execution_count": 14,
   "id": "1a6404fa",
   "metadata": {},
   "outputs": [
    {
     "name": "stdout",
     "output_type": "stream",
     "text": [
      "Only back_end skills: {'flask', 'spring'}\n",
      "Only front_end skills: {'angular', 'react'}\n"
     ]
    }
   ],
   "source": [
    "print(f\"Only back_end skills: {back_end - front_end}\")\n",
    "print(f\"Only front_end skills: {front_end.difference(back_end)}\")\n"
   ]
  }
 ],
 "metadata": {
  "kernelspec": {
   "display_name": "Python 3",
   "language": "python",
   "name": "python3"
  },
  "language_info": {
   "codemirror_mode": {
    "name": "ipython",
    "version": 3
   },
   "file_extension": ".py",
   "mimetype": "text/x-python",
   "name": "python",
   "nbconvert_exporter": "python",
   "pygments_lexer": "ipython3",
   "version": "3.11.9"
  }
 },
 "nbformat": 4,
 "nbformat_minor": 5
}
