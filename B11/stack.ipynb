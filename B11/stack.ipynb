{
 "cells": [
  {
   "cell_type": "markdown",
   "id": "0d74e58b",
   "metadata": {},
   "source": [
    "## Stack\n",
    "- **Ngăn xếp (Stack)** là một kiểu danh sách mà thao tác thêm và xóa phần tử được thực hiện ở **cuối danh sách**.\n",
    "- Stack là kiểu dữ liệu **Last In - First Out** (**LIFO**).\n",
    "- **Độ phức tạp** của các thao tác thêm/ xóa: **O(1)**"
   ]
  },
  {
   "cell_type": "code",
   "execution_count": 1,
   "id": "9208a9a1",
   "metadata": {},
   "outputs": [],
   "source": [
    "# khai báo ( sử dụng list để biểu diễn stack)\n",
    "stack = [54,2,45]\n"
   ]
  },
  {
   "cell_type": "markdown",
   "id": "27bd06b2",
   "metadata": {},
   "source": [
    "## Peek: Truy cập phần tử"
   ]
  },
  {
   "cell_type": "code",
   "execution_count": null,
   "id": "04d5b295",
   "metadata": {},
   "outputs": [],
   "source": [
    "stack[-1] #lấy phần tử cuối cùng"
   ]
  },
  {
   "cell_type": "markdown",
   "id": "9d8dc5bb",
   "metadata": {},
   "source": [
    "## Push: thêm phần tử đỉnh stack"
   ]
  },
  {
   "cell_type": "code",
   "execution_count": null,
   "id": "5b003c32",
   "metadata": {},
   "outputs": [
    {
     "data": {
      "text/plain": [
       "[54, 2, 45]"
      ]
     },
     "execution_count": 2,
     "metadata": {},
     "output_type": "execute_result"
    }
   ],
   "source": [
    "stack.append(12)\n",
    "stack"
   ]
  },
  {
   "cell_type": "markdown",
   "id": "c9e8593e",
   "metadata": {},
   "source": [
    "### PoP: xoá + trả và phần tử ở *đỉnh stack*"
   ]
  },
  {
   "cell_type": "code",
   "execution_count": 3,
   "id": "2ac0d6d2",
   "metadata": {},
   "outputs": [
    {
     "data": {
      "text/plain": [
       "45"
      ]
     },
     "execution_count": 3,
     "metadata": {},
     "output_type": "execute_result"
    }
   ],
   "source": [
    "stack.pop()"
   ]
  },
  {
   "cell_type": "markdown",
   "id": "f04a36cd",
   "metadata": {},
   "source": [
    "### kiểm tra rỗng"
   ]
  },
  {
   "cell_type": "code",
   "execution_count": 5,
   "id": "4a8e178d",
   "metadata": {},
   "outputs": [
    {
     "name": "stdout",
     "output_type": "stream",
     "text": [
      "[54, 2]\n"
     ]
    }
   ],
   "source": [
    "if len(stack) == 0:\n",
    "    print(\"Empty\")\n",
    "else:\n",
    "    print(stack)"
   ]
  }
 ],
 "metadata": {
  "kernelspec": {
   "display_name": "Python 3",
   "language": "python",
   "name": "python3"
  },
  "language_info": {
   "codemirror_mode": {
    "name": "ipython",
    "version": 3
   },
   "file_extension": ".py",
   "mimetype": "text/x-python",
   "name": "python",
   "nbconvert_exporter": "python",
   "pygments_lexer": "ipython3",
   "version": "3.11.9"
  }
 },
 "nbformat": 4,
 "nbformat_minor": 5
}
