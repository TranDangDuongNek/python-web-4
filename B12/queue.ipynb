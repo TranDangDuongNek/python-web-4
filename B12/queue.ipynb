{
 "cells": [
  {
   "cell_type": "markdown",
   "id": "42029c27",
   "metadata": {},
   "source": [
    "### QUEUE (hàng đợi)\n",
    "- Là danh sách **thêm** phần tử **ở cuối** và **loại bỏ** phần tử **ở đầu**\n",
    "> First in - First out (FIFO)"
   ]
  },
  {
   "cell_type": "code",
   "execution_count": 2,
   "id": "3b3efbda",
   "metadata": {},
   "outputs": [],
   "source": [
    "# xây dựng class queue\n",
    "class Queue:\n",
    "    def __init__(self):\n",
    "        self.__queue = []\n",
    "\n",
    "    # thêm phần tử (thêm cuối)\n",
    "    def enqueue(self, new_item):\n",
    "        self.__queue.append(new_item)\n",
    "\n",
    "    # xoá phần tử (xoá đầu)\n",
    "    def dequeue(self):\n",
    "        if not self.is_empty():\n",
    "            return self.__queue.pop(0)\n",
    "\n",
    "    def is_empty(self):\n",
    "        return len(self.__queue) == 0\n",
    " \n",
    "    @property\n",
    "    def size(self):\n",
    "        return int(len(self.__queue))\n",
    "\n",
    "    @property\n",
    "    def queue(self):\n",
    "        if not self.is_empty():\n",
    "            return self.__queue\n",
    "    \n",
    "    def __str__(self):\n",
    "        return str(self.__queue)"
   ]
  },
  {
   "cell_type": "code",
   "execution_count": 9,
   "id": "80e719c0",
   "metadata": {},
   "outputs": [
    {
     "name": "stdout",
     "output_type": "stream",
     "text": [
      "[1, 30, 65]\n",
      "1\n",
      "[30, 65]\n",
      "3\n",
      "True\n"
     ]
    }
   ],
   "source": [
    "# test drive\n",
    "queue = Queue()\n",
    "queue.enqueue(1)\n",
    "queue.enqueue(30)\n",
    "queue.enqueue(65)\n",
    "print(queue)\n",
    "print(queue.dequeue())\n",
    "print(queue)\n",
    "queue.enqueue(124)\n",
    "print(queue.size)\n",
    "queue.dequeue()\n",
    "queue.dequeue()\n",
    "queue.dequeue()\n",
    "queue.dequeue()\n",
    "print(queue.is_empty())"
   ]
  }
 ],
 "metadata": {
  "kernelspec": {
   "display_name": "Python 3",
   "language": "python",
   "name": "python3"
  },
  "language_info": {
   "codemirror_mode": {
    "name": "ipython",
    "version": 3
   },
   "file_extension": ".py",
   "mimetype": "text/x-python",
   "name": "python",
   "nbconvert_exporter": "python",
   "pygments_lexer": "ipython3",
   "version": "3.11.9"
  }
 },
 "nbformat": 4,
 "nbformat_minor": 5
}
