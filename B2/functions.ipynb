{
 "cells": [
  {
   "cell_type": "markdown",
   "id": "c1fd7499",
   "metadata": {},
   "source": [
    "- Khai báo hàm: ** def **\n",
    "- Khi khai bao, trong ngoac tròn (tham số/ parameters)\n",
    "- Nếu gọi hàm đề chạy, nhập giá trị cho tham số => (đối số / arguments)\n",
    "- **return**: trả về giá trị cụ thể"
   ]
  },
  {
   "cell_type": "code",
   "execution_count": null,
   "id": "397d4c3c",
   "metadata": {},
   "outputs": [],
   "source": [
    "# hàm 1 dòng (lambda)\n",
    "# tạo hàm kiểm tra số lẻ\n",
    "def is_odd(n : int) -> bool:\n",
    "    return n % 2 != 0\n",
    "\n",
    "# CÚ PHÁP: lambda <params> : <code return>\n",
    "odd_value = lambda n : n % 2 != 0\n",
    "odd_value(15)"
   ]
  }
 ],
 "metadata": {
  "language_info": {
   "name": "python"
  }
 },
 "nbformat": 4,
 "nbformat_minor": 5
}
