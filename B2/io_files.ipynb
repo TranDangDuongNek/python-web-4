{
 "cells": [
  {
   "cell_type": "markdown",
   "id": "31bda9ba",
   "metadata": {},
   "source": [
    "# Tạo / Đoạc file"
   ]
  },
  {
   "cell_type": "code",
   "execution_count": null,
   "id": "56a54883",
   "metadata": {},
   "outputs": [
    {
     "name": "stdout",
     "output_type": "stream",
     "text": [
      "name : mr\n",
      "age : 23\n",
      "tall : 1m7\n",
      "\n",
      "[]\n"
     ]
    }
   ],
   "source": [
    "# tao bien luu file đc gọi\n",
    "file = open(\"data.txt\", \"r\")\n",
    "# read(): đọc hết dữ liệu => return: string\n",
    "data = file.read()\n",
    "print(data)\n",
    "# readline(): đọc từng dòng => return: string\n",
    "data = file.readline()\n",
    "print(data)\n",
    "# readlines(): đọc hêt dữ liệu (lấy luôn kí tự đặc biệt) => return: list \n",
    "data = file.readlines()\n",
    "print(data)\n",
    "\n",
    "# đóng file\n",
    "file.close()\n",
    "\n"
   ]
  },
  {
   "cell_type": "markdown",
   "id": "5e646dd2",
   "metadata": {},
   "source": [
    "# Ghi file\n"
   ]
  },
  {
   "cell_type": "code",
   "execution_count": null,
   "id": "679b163f",
   "metadata": {},
   "outputs": [],
   "source": [
    "# w: ghi đè file cũ hoặc tạo mới nếu chưa có\n",
    "# x: tạo mới và ghi vào, nếu đã có file -> báo lỗi\n",
    "with open(\"new_data.txt\", \"w\", encoding=\"utf-8\") as file:\n",
    "    # ghi 1 dong \n",
    "    file.write(\"Hello, World!\")\n",
    "    # ghi nhiều dong\n",
    "    file.write(\"\\n\")\n",
    "    file.write(\"Python\\t\")\n",
    "\n",
    "# a: append, ghi tiep du lieu trong file (bổ sung vào cuối file)\n",
    "with open(\"new_data.txt\", \"a\") as file:\n",
    "    # viet nhieu dong \n",
    "    file.writelines([\"abc\\n\", \"xyz\\n\", \"123\\n\"])\n"
   ]
  }
 ],
 "metadata": {
  "kernelspec": {
   "display_name": "Python 3",
   "language": "python",
   "name": "python3"
  },
  "language_info": {
   "codemirror_mode": {
    "name": "ipython",
    "version": 3
   },
   "file_extension": ".py",
   "mimetype": "text/x-python",
   "name": "python",
   "nbconvert_exporter": "python",
   "pygments_lexer": "ipython3",
   "version": "3.11.9"
  }
 },
 "nbformat": 4,
 "nbformat_minor": 5
}
