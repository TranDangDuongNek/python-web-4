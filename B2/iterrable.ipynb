{
 "cells": [
  {
   "cell_type": "markdown",
   "id": "47f9c56c",
   "metadata": {},
   "source": [
    "# DANH SÁCH CÓ INDEX"
   ]
  },
  {
   "cell_type": "markdown",
   "id": "38febdae",
   "metadata": {},
   "source": [
    "## list\n",
    "- chứa các phần tử có thứ tự, có giá trị là bất kỳ kiểu dữ liệu nào\n",
    "- có thể truy cập giá trị của phần tử bằng chỉ số vị trí (index)\n",
    "- có kích thước thay đổi được khi thực thi chương trình"
   ]
  },
  {
   "cell_type": "code",
   "execution_count": 10,
   "id": "62702338",
   "metadata": {},
   "outputs": [
    {
     "name": "stdout",
     "output_type": "stream",
     "text": [
      "True\n",
      "['item', 'item1', 'item2', 'item3', 'item4']\n",
      "['item', 'item1', 'item2', 'item3', 'item5']\n",
      "['item', 'item1', 'item3', 'item5']\n"
     ]
    },
    {
     "ename": "ValueError",
     "evalue": "list.remove(x): x not in list",
     "output_type": "error",
     "traceback": [
      "\u001b[31m---------------------------------------------------------------------------\u001b[39m",
      "\u001b[31mValueError\u001b[39m                                Traceback (most recent call last)",
      "\u001b[36mCell\u001b[39m\u001b[36m \u001b[39m\u001b[32mIn[10]\u001b[39m\u001b[32m, line 21\u001b[39m\n\u001b[32m     19\u001b[39m \u001b[38;5;28mprint\u001b[39m(items)  \u001b[38;5;66;03m# ['item', 'item1', 'item3', 'item5']\u001b[39;00m\n\u001b[32m     20\u001b[39m \u001b[38;5;66;03m# Xóa phần tử\u001b[39;00m\n\u001b[32m---> \u001b[39m\u001b[32m21\u001b[39m \u001b[43mitems\u001b[49m\u001b[43m.\u001b[49m\u001b[43mremove\u001b[49m\u001b[43m(\u001b[49m\u001b[33;43m\"\u001b[39;49m\u001b[33;43mitem2\u001b[39;49m\u001b[33;43m\"\u001b[39;49m\u001b[43m)\u001b[49m  \u001b[38;5;66;03m# Xóa phần tử có giá trị \"item2\" (xóa phần tử đầu tiên từ trái sang)\u001b[39;00m\n\u001b[32m     22\u001b[39m \u001b[38;5;28mprint\u001b[39m(items)  \u001b[38;5;66;03m# ['item', 'item1', 'item3', 'item5']\u001b[39;00m\n\u001b[32m     24\u001b[39m \u001b[38;5;66;03m# Xóa phần tử cuối cùng\u001b[39;00m\n",
      "\u001b[31mValueError\u001b[39m: list.remove(x): x not in list"
     ]
    }
   ],
   "source": [
    "# Khai báo phần tử\n",
    "items = [\"item1\", \"item2\", \"item3\"]\n",
    "\n",
    "# Truy cập phần tử với index\n",
    "print(items[-3] == items[0])  # True\n",
    "\n",
    "# Thêm phần tử\n",
    "items.append(\"item4\")  # Thêm vào cuối danh sách\n",
    "items.insert(0, \"item\")  # Thêm vào vị trí 0\n",
    "\n",
    "print(items)  # ['item', 'item1', 'item2', 'item3', 'item4']\n",
    "\n",
    "# Sửa phần tử\n",
    "items[4] = \"item5\"  # Sửa phần tử ở vị trí 4\n",
    "print(items)  # ['item', 'item1', 'item2', 'item3', 'item5']\n",
    "\n",
    "# Xóa phần tử\n",
    "items.remove(\"item2\")  # Xóa phần tử có giá trị \"item2\" (xóa phần tử đầu tiên từ trái sang)\n",
    "print(items)  # ['item', 'item1', 'item3', 'item5']\n",
    "# Xóa phần tử\n",
    "items.remove(\"item2\")  # Xóa phần tử có giá trị \"item2\" (xóa phần tử đầu tiên từ trái sang)\n",
    "print(items)  # ['item', 'item1', 'item3', 'item5']\n",
    "\n",
    "# Xóa phần tử cuối cùng\n",
    "del items[len(items) - 1]  # Xóa phần tử ở vị trí cuối cùng\n",
    "print(items)  # ['item', 'item1', 'item3']\n"
   ]
  },
  {
   "cell_type": "code",
   "execution_count": null,
   "id": "85abc7d0",
   "metadata": {},
   "outputs": [],
   "source": [
    "# Slice (cắt mảng) [start:stop:step]\n",
    "#start: vị trí bắt đầu (mặc định là 0)\n",
    "#stop: vị trí kết thúc (mặc định là phần tử cuối cùng trong danh sách)\n",
    "#step: bước nhảy (mặc định là 1)\n",
    "print(l[::-1])\n",
    "print(l[1:3:2]) # lấy phần tử từ vị trí 1 đến 2 (bước nhảy là 2)"
   ]
  },
  {
   "cell_type": "markdown",
   "id": "5f86a3b5",
   "metadata": {},
   "source": [
    "## Tuple()"
   ]
  },
  {
   "cell_type": "markdown",
   "id": "4628bc2a",
   "metadata": {},
   "source": [
    "- Có index \n",
    "- Không thể cập nhật giá trị phần tử\n",
    "- Những tính chất khác giống list"
   ]
  },
  {
   "cell_type": "markdown",
   "id": "0e8f22c2",
   "metadata": {},
   "source": [
    "## String \" \""
   ]
  },
  {
   "cell_type": "markdown",
   "id": "4ba46a4e",
   "metadata": {},
   "source": [
    "- Có index -> có thể truy cập phần tử từ index\n",
    "- Không thể thay đổi một kí tự con trong chuỗi\n",
    "- Thêm/ cộng dồn chuỗi + cắt chuỗi => giống **list**"
   ]
  },
  {
   "cell_type": "markdown",
   "id": "1fc32ae6",
   "metadata": {},
   "source": [
    "## set()"
   ]
  },
  {
   "cell_type": "markdown",
   "id": "2721875a",
   "metadata": {},
   "source": [
    "- Nếu là ** set rông ** = > phái viết ** set() ** vì néu dùng *() thì sẽ là dictionary* \n",
    "- Danh sách không trùng lập (xóa phần từ trùng lập tính từ bên phải)\n",
    "- Vì không có index -> không truy cập được một phần tử bất kì"
   ]
  },
  {
   "cell_type": "code",
   "execution_count": null,
   "id": "1d35fee1",
   "metadata": {},
   "outputs": [],
   "source": [
    "# Khai báo tập hợp\n",
    "set1 = {\"item1\", \"item2\", \"item3\"}\n",
    "\n",
    "# Thêm phần tử\n",
    "set1.add(\"item4\")  # Thêm phần tử mới\n",
    "set1.update([\"item5\", \"item6\"])  # Thêm nhiều phần tử mới\n",
    "print(set1)  # {'item1', 'item2', 'item3', 'item4', 'item5', 'item6'}\n",
    "\n",
    "# Tìm kiếm phần tử\n",
    "print(\"item1\" in set1)  # True, kiểm tra phần tử có trong set hay không\n",
    "print(set1)  # {'item1', 'item2', 'item3', 'item4', 'item5', 'item6'}\n",
    "\n",
    "# Xóa phần tử\n",
    "set1.remove(\"item2\")  # Xóa phần tử \"item2\"\n",
    "set1.discard(\"item3\")  # Xóa phần tử \"item3\", nếu không có thì không làm gì\n",
    "print(set1)  # {'item1', 'item4', 'item5', 'item6'}\n"
   ]
  },
  {
   "cell_type": "markdown",
   "id": "85a1ae07",
   "metadata": {},
   "source": [
    "# Dictionary {}"
   ]
  },
  {
   "cell_type": "markdown",
   "id": "884cab6f",
   "metadata": {},
   "source": [
    "- Danh sách có 2 phần: **{\"key\": \"value\"}**.\n",
    "- Mỗi item (key/ value) cách nhau bởi dấu **,**\n",
    "- Key không được trùng giữa các item => trùng lặp thì ghi đè value cũ."
   ]
  },
  {
   "cell_type": "code",
   "execution_count": 11,
   "id": "5c08d21b",
   "metadata": {},
   "outputs": [
    {
     "name": "stdout",
     "output_type": "stream",
     "text": [
      "{'01': 'Anh Long', '02': 'Hà Lan', '03': 'MR cat'}\n",
      "{'01': 'Anh Long', '02': 'Hà Lan', '03': 'MR cat', '04': 'dog'}\n",
      "Khong tim thay\n",
      "('04', 'dog')\n",
      "{'01': 'Nguyen Van A1', '02': 'Hà Lan', '03': 'MR cat'}\n",
      "01: Nguyen Van A1\n",
      "02: Hà Lan\n",
      "03: MR cat\n",
      "{'02': 'Hà Lan'}\n"
     ]
    }
   ],
   "source": [
    "# KHAI BÁO\n",
    "students = {\n",
    "    \"01\" : \"Anh Long\",\n",
    "    \"02\" : \"Hà Lan\",\n",
    "    \"03\" : \"MR cat\"\n",
    "}\n",
    "print(students)\n",
    "\n",
    "# THÊM PHẦN TỬ\n",
    "students[\"04\"] = \"dog\"\n",
    "print(students)\n",
    "\n",
    "# XOÁ PHÂN TỬ\n",
    "# del students[\"02\"]\n",
    "# print(students)\n",
    "\n",
    "# pop(key, default)=> return value của key đã nhập, nếu không có thì trả về default\n",
    "da_xoa = students.pop(\"@2\", \"Khong tim thay\")\n",
    "print(da_xoa)\n",
    "\n",
    "# popitem() => XOÁ PHẦN TỬ CUỐI CÙNG => return tuple (key, calue)\n",
    "da_xoa = students.popitem()\n",
    "print(da_xoa)\n",
    "\n",
    "# sửa phần tử (ghi đề)\n",
    "students[\"01\"] = \"Nguyen Van A1\"\n",
    "print(students)\n",
    "\n",
    "# TÌM KIẾM PHÂN TỬ ( NGHI ĐỀ)\n",
    "# dict.keys(): danh sach khoa\n",
    "# dict.values(): danh sach gia tri\n",
    "# dict.items(): danh sach tuple (khoa, gia tri)\n",
    "for key, value in students.items():\n",
    "    print(f\"{key}: {value}\")\n",
    "\n",
    "danh_sach_moi = {k: v for k, v in students.items() if int(k) % 2 == 0}\n",
    "print(danh_sach_moi)\n",
    "\n"
   ]
  },
  {
   "cell_type": "code",
   "execution_count": null,
   "id": "fcf6bc1a",
   "metadata": {},
   "outputs": [],
   "source": []
  }
 ],
 "metadata": {
  "kernelspec": {
   "display_name": "Python 3",
   "language": "python",
   "name": "python3"
  },
  "language_info": {
   "codemirror_mode": {
    "name": "ipython",
    "version": 3
   },
   "file_extension": ".py",
   "mimetype": "text/x-python",
   "name": "python",
   "nbconvert_exporter": "python",
   "pygments_lexer": "ipython3",
   "version": "3.11.9"
  }
 },
 "nbformat": 4,
 "nbformat_minor": 5
}
