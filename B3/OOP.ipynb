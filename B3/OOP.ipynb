{
 "cells": [
  {
   "cell_type": "markdown",
   "id": "6ce68fc7",
   "metadata": {},
   "source": [
    "- OOP: class (bản vẽ): quy định **thuộc tính** + **phương thức** cho object (bản sao)\n",
    "- Mỗi class đều bắt buộc có 1 def __init__(hàm khởi tạo) \n",
    "- Tên class **viết hoa chữ đầu**.\n",
    "- **4 Tính chất**:\n",
    "  - Kế thừa\n",
    "  - Đóng gói\n",
    "  - Trừu tượng\n",
    "  - Đa hình\n",
    "- *Note: mỗi class được tạo ra, **mặc định được kế thừa từ class Object** trong thư viện Python*\n",
    "    - Nếu không khai báo hàm khởi tạo -> chương trình sẽ lấy init mặc định từ Object"
   ]
  },
  {
   "cell_type": "markdown",
   "id": "031f9cf9",
   "metadata": {},
   "source": [
    "- Tạo class Animal: age, sound, name, hàm speak in ra tiếng kêu, hàm action\n",
    "- Tạo class Dog, Duck, Bird: chỉnh sửa lại hàm str để có thể in ra thông tin của các con vật\n",
    "- Mỗi con vật có action riêng"
   ]
  },
  {
   "cell_type": "code",
   "execution_count": 4,
   "id": "9a48953d",
   "metadata": {},
   "outputs": [],
   "source": [
    "class Animal:\n",
    "    # Hàm khởi tạo ( những thuộc tính cần người dùng truyền vào)\n",
    "    def __init__(self, name:str, age:int, sound:str):\n",
    "        self.__name = name\n",
    "        self.__age = age\n",
    "        self.__sound = sound\n",
    "\n",
    "    # getter / setter ( tính đồng gói)\n",
    "    def getName(self):\n",
    "        return self.__name\n",
    "    def setName(self, name):\n",
    "        self.__name = name\n",
    "    def getAge(self):\n",
    "        return self.__age\n",
    "    def setAge(self, age):\n",
    "        self.__age = age\n",
    "    \n",
    "    # Tính đa hình\n",
    "    def speak(self):\n",
    "        return self.name + \" speak \" +self.__sound\n",
    "\n",
    "    #  tính trừu tượng\n",
    "    def action(self):..."
   ]
  },
  {
   "cell_type": "code",
   "execution_count": null,
   "id": "bea12e94",
   "metadata": {},
   "outputs": [],
   "source": [
    "# tính kế thừa\n",
    "class Chicken(Animal):\n",
    "    def __init__(self, name, age):\n",
    "        # lấy code từ init lớp cha\n",
    "        super().__init__(name, age, \"chip\")\n",
    "    \n",
    "    def action(self):\n",
    "        print(\"con gà đg bơi!\")\n",
    "    \n",
    "    def __str__(self):\n",
    "        # nghi đề code cu --> tính đa hình\n",
    "        return \"Chicken\" + self.name\n",
    "\n",
    "# tính kế thừa\n",
    "class Duck(Animal):\n",
    "    def __init__(self, name, age):\n",
    "        # lấy code từ init lớp cha\n",
    "        super().__init__(name, age, \"quack\")\n",
    "    \n",
    "    def action(self):\n",
    "        print(\"con vịt đuối nước!\")\n",
    "    \n",
    "    def __str__(self):\n",
    "        # nghi đề code cu --> tính đa hình\n",
    "        return \"Duck\" + self.name\n",
    "\n",
    "# tính kế thừa\n",
    "class Cat(Animal):\n",
    "    def __init__(self, name, age):\n",
    "        # lấy code từ init lớp cha\n",
    "        super().__init__(name, age, \"meow\")\n",
    "    \n",
    "    def action(self):\n",
    "        print(\"con mèo sợ chuột!\")\n",
    "    \n",
    "    def __str__(self):\n",
    "        # nghi đề code cu --> tính đa hình\n",
    "        return \"meo\" + self.name"
   ]
  },
  {
   "cell_type": "code",
   "execution_count": null,
   "id": "fa233d53",
   "metadata": {},
   "outputs": [],
   "source": []
  }
 ],
 "metadata": {
  "kernelspec": {
   "display_name": "Python 3",
   "language": "python",
   "name": "python3"
  },
  "language_info": {
   "codemirror_mode": {
    "name": "ipython",
    "version": 3
   },
   "file_extension": ".py",
   "mimetype": "text/x-python",
   "name": "python",
   "nbconvert_exporter": "python",
   "pygments_lexer": "ipython3",
   "version": "3.11.9"
  }
 },
 "nbformat": 4,
 "nbformat_minor": 5
}
