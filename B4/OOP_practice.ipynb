{
 "cells": [
  {
   "cell_type": "markdown",
   "id": "b3ef1610",
   "metadata": {},
   "source": [
    "# Item:\n",
    "- propteries: [id, name, price]\n",
    "- methods: getter + setter, toString, compareTo\n"
   ]
  },
  {
   "cell_type": "code",
   "execution_count": 7,
   "id": "2ad8130f",
   "metadata": {},
   "outputs": [
    {
     "ename": "IndentationError",
     "evalue": "unindent does not match any outer indentation level (<tokenize>, line 34)",
     "output_type": "error",
     "traceback": [
      "  \u001b[36mFile \u001b[39m\u001b[32m<tokenize>:34\u001b[39m\n\u001b[31m    \u001b[39m\u001b[31mdef __lt__(self, other) -> bool | _NotImplementedType:\u001b[39m\n    ^\n\u001b[31mIndentationError\u001b[39m\u001b[31m:\u001b[39m unindent does not match any outer indentation level\n"
     ]
    }
   ],
   "source": [
    "class Item:\n",
    "    def __init__(self, id: int, name: str, price: float) -> None:\n",
    "        self._id = id\n",
    "        self._name = name\n",
    "        self._price = price\n",
    "\n",
    "    @property\n",
    "    def id(self) -> int:\n",
    "        return self.__id\n",
    "\n",
    "    @property\n",
    "    def name(self) -> str:\n",
    "        return self.__name\n",
    "\n",
    "    @property\n",
    "    def price(self) -> float:\n",
    "        return self.__price\n",
    "    @id.setter\n",
    "    def id(self, id: int):\n",
    "        self.__id = id\n",
    "  \n",
    "    @name.setter\n",
    "    def name(self, name: str):\n",
    "        self.__name = name\n",
    "\n",
    "    @price.setter\n",
    "    def price(self, price: float):\n",
    "        self.__price = price\n",
    "\n",
    "def __str__ (self):\n",
    "        return f\"Item(id={self.__id}, name='{self.__name}', price={self.__price})\"\n",
    "\n",
    "# so sanh 2 item\n",
    "    def __lt__(self, other) -> bool | _NotImplementedType:\n",
    "        # kiem tra other la thuc the cua Item\n",
    "        if isinstance(other, Item):\n",
    "            return self.__id < other._id\n",
    "        return NotImplemented\n",
    "\n",
    "    def compare_to(self, other) -> int:\n",
    "        if not isinstance(other, Item):\n",
    "            raise ValueError(\"Can only compare with another Item!\")\n",
    "        return self.__id - other.__id\n"
   ]
  },
  {
   "cell_type": "code",
   "execution_count": 3,
   "id": "7a9bd87f",
   "metadata": {},
   "outputs": [
    {
     "ename": "NameError",
     "evalue": "name 'Item' is not defined",
     "output_type": "error",
     "traceback": [
      "\u001b[31m---------------------------------------------------------------------------\u001b[39m",
      "\u001b[31mNameError\u001b[39m                                 Traceback (most recent call last)",
      "\u001b[36mCell\u001b[39m\u001b[36m \u001b[39m\u001b[32mIn[3]\u001b[39m\u001b[32m, line 1\u001b[39m\n\u001b[32m----> \u001b[39m\u001b[32m1\u001b[39m item1 = \u001b[43mItem\u001b[49m(\u001b[32m1\u001b[39m, \u001b[33m\"\u001b[39m\u001b[33mMilk\u001b[39m\u001b[33m\"\u001b[39m, \u001b[32m2.49\u001b[39m)\n\u001b[32m      2\u001b[39m item2 = Item(\u001b[32m2\u001b[39m, \u001b[33m\"\u001b[39m\u001b[33mBread\u001b[39m\u001b[33m\"\u001b[39m, \u001b[32m1.99\u001b[39m)\n\u001b[32m      3\u001b[39m item3 = Item(\u001b[32m3\u001b[39m, \u001b[33m\"\u001b[39m\u001b[33mEggs\u001b[39m\u001b[33m\"\u001b[39m, \u001b[32m3.25\u001b[39m)\n",
      "\u001b[31mNameError\u001b[39m: name 'Item' is not defined"
     ]
    }
   ],
   "source": [
    "item1 = Item(1, \"Milk\", 2.49)\n",
    "item2 = Item(2, \"Bread\", 1.99)\n",
    "item3 = Item(3, \"Eggs\", 3.25)\n",
    "item4 = Item(4, \"Apples\", 4.50)\n",
    "item5 = Item(5, \"Bananas\", 2.99)\n",
    "item6 = Item(6, \"Cheese\", 5.75)\n",
    "item7 = Item(7, \"Tomatoes\", 3.10)\n",
    "item8 = Item(8, \"Chicken\", 8.99)\n",
    "item9 = Item(9, \"Rice\", 6.20)\n",
    "item10 = Item(10, \"Coffee\", 7.80)"
   ]
  },
  {
   "cell_type": "markdown",
   "id": "b03c8621",
   "metadata": {},
   "source": [
    "# Order:\n",
    "- properties: [id, account, item_list (dict), voucher (str)]\n",
    "- methods: getVoucherPromo() - 10%, getBulkOrderPromo() - 10%, setScore(), printBill(), total()"
   ]
  },
  {
   "cell_type": "code",
   "execution_count": null,
   "id": "327c0d0c",
   "metadata": {},
   "outputs": [],
   "source": [
    "class Order:\n",
    "    def __init__(self, id: str, account: Account, item_list: dict = {}, voucher: str = \"\") -> None:\n",
    "        self._id = id\n",
    "        self.account = account\n",
    "        self._item_list = item_list\n",
    "        self.voucher = voucher\n",
    "\n",
    "    @property\n",
    "    def id(self):\n",
    "        return self.__id\n",
    "\n",
    "    @property\n",
    "    def item_list(self):\n",
    "        return self.__item_list  \n",
    "    \n",
    "    @property\n",
    "    def voucher(self):\n",
    "        return self.__voucher\n",
    "    \n",
    "    @item_list.setter\n",
    "    def item_list(self, item_list:dict):\n",
    "        self.__item_list = item_list\n",
    "\n",
    "    @voucher.setter\n",
    "    def voucher(self, voucher:str):\n",
    "        self.__voucher = voucher\n",
    "\n",
    "    # add item\n",
    "    def add_item(self, item: Item) -> None:\n",
    "        if item.id not in self.__item_list:\n",
    "            # thêm mới\n",
    "            self.__item_list[item.id] = 1\n",
    "        else:\n",
    "            # chỉnh danh sách + điều chỉnh qty\n",
    "            self.__item_list[item.id] += 1\n",
    "\n",
    "    # remove item\n",
    "    def remove_item(self, item: Item) -> bool:\n",
    "        if item.id in self.__item_list:\n",
    "            # trừ 1 qty\n",
    "            self.__item_list[item.id] -= 1\n",
    "            if self.__item_list[item.id] == 0:\n",
    "                # xóa item\n",
    "                del self.__item_list[item.id]\n",
    "                return True\n",
    "            return True\n",
    "        return False\n",
    "\n",
    "    def getVoucherPromo(self):\n",
    "            return 0.10 if self.voucher else 0.0\n",
    "    \n",
    "    def __getTotalQuantity(self):\n",
    "        return sum(self.__item_list.values())\n",
    "    \n",
    "    def getBulkOrderPromo(self):\n",
    "        return 0.10 if self.__getTotalQuantity() > 10 else 0.0\n",
    "    def total(self):\n",
    "        sum = 0\n",
    "            for item in self.__item_list:\n",
    "                qty = self.__item_list[item]\n",
    "                sum += item.price * qty\n",
    "            # tinh them giam gia\n",
    "            sum *=  (1 - self.getBulkOrderPromo() - self.getVoucherPromo() - self.account.getLoyaltyPromo())\n",
    "            return sum\n",
    "    def setScore(self):\n",
    "            return int(self.total() * 0.1)\n",
    "\n",
    "    # in bill ra file txt\n",
    "        def printBill(self):\n",
    "            with open(f\"bill_{self.__id}.txt\", \"w\") as file:\n",
    "                file.write(f\"Bill ID: {self.__id}\\n\")\n",
    "                file.write(f\"Voucher: {self.voucher}\\n\")\n",
    "                file.write(f\"Loyalty: {self.account.getLoyaltyPromo()}\\n\")\n",
    "                file.write(f\"Bulk Order: {self.getBulkOrderPromo()}\\n\")\n",
    "                file.write(f\"Total: {self.total()}\\n\")\n",
    "                file.write(f\"Score: {self.setScore()}\\n\")\n",
    "                file.write(\"Items:\\n\")\n",
    "    for item in self.__item_list:\n",
    "                    file.write(item.__str__())\n",
    "                    file.write(f\"Quantity: {self.__item_list[item]}\\n\")\n",
    "                    file.write(f\"Total: {self.total()}\\n\")"
   ]
  },
  {
   "cell_type": "markdown",
   "id": "10af1492",
   "metadata": {},
   "source": [
    "# Account: \n",
    "- properties: [id, name, score]\n",
    "- methods: getLoyaltyPromo() - 15%"
   ]
  },
  {
   "cell_type": "code",
   "execution_count": null,
   "id": "434930bb",
   "metadata": {},
   "outputs": [],
   "source": []
  }
 ],
 "metadata": {
  "kernelspec": {
   "display_name": "Python 3",
   "language": "python",
   "name": "python3"
  },
  "language_info": {
   "codemirror_mode": {
    "name": "ipython",
    "version": 3
   },
   "file_extension": ".py",
   "mimetype": "text/x-python",
   "name": "python",
   "nbconvert_exporter": "python",
   "pygments_lexer": "ipython3",
   "version": "3.11.9"
  }
 },
 "nbformat": 4,
 "nbformat_minor": 5
}
