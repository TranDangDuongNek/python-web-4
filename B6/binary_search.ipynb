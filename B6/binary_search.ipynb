{
 "cells": [
  {
   "cell_type": "markdown",
   "id": "5b288016",
   "metadata": {},
   "source": [
    "Chia doi danh sach de tim kiem (mid, start, end)\n",
    "<br>\n",
    "**Do phuc tap: O(log2(n))**"
   ]
  },
  {
   "cell_type": "code",
   "execution_count": 1,
   "id": "bcc5a88f",
   "metadata": {},
   "outputs": [],
   "source": [
    "def binary_search_loop(arr, target) -> int:\n",
    "    #danh sach rong\n",
    "    if not arr:\n",
    "        return -1\n",
    "    \n",
    "    # tao mid, start, end\n",
    "    start, end = 0, len(arr) - 1\n",
    "    mid = (end - start) // 2 + start\n",
    "\n",
    "    # lap tu start den end\n",
    "    while start <= end:\n",
    "        # = \n",
    "        if arr[mid] == target:\n",
    "            return mid\n",
    "        # <\n",
    "        if arr[mid] < target:\n",
    "            start = mid + 1\n",
    "        # >\n",
    "        else:\n",
    "            end = mid - 1\n",
    "        \n",
    "        # cap nhat mid\n",
    "        mid = (end - start) // 2 + start\n",
    "    \n",
    "    # ket thuc vong while -> k tim thay\n",
    "    return -1\n"
   ]
  },
  {
   "cell_type": "code",
   "execution_count": 3,
   "id": "4313c641",
   "metadata": {},
   "outputs": [],
   "source": [
    "import timeit\n",
    "import random\n",
    "\n",
    "arr = [random.randint(-10, 100) for _ in range(10000)]\n",
    "arr.sort()\n"
   ]
  },
  {
   "cell_type": "code",
   "execution_count": 4,
   "id": "796ddb8c",
   "metadata": {},
   "outputs": [
    {
     "name": "stdout",
     "output_type": "stream",
     "text": [
      "Do thoi gian tim kiem:  0.0032476999986101873\n"
     ]
    }
   ],
   "source": [
    "# number (timeit) = do trung binh cho n lan chay\n",
    "print(\"Do thoi gian tim kiem: \", timeit.timeit(lambda: binary_search_loop(arr, -300), number=1000))\n"
   ]
  },
  {
   "cell_type": "markdown",
   "id": "f32149ab",
   "metadata": {},
   "source": [
    "<h1> code de quy"
   ]
  },
  {
   "cell_type": "code",
   "execution_count": 11,
   "id": "9ac83d03",
   "metadata": {},
   "outputs": [],
   "source": [
    "def binary_search_recursive(arr, target, start, end):\n",
    "    if start > end:\n",
    "        return -1\n",
    "    mid = (end - start) // 2 + start\n",
    "    if arr[mid] == target:\n",
    "        return mid\n",
    "    elif arr[mid] < target:\n",
    "        return binary_search_recursive(arr, target, mid + 1, end)\n",
    "    else:\n",
    "        return binary_search_recursive(arr, target, start, mid - 1)\n",
    "\n"
   ]
  },
  {
   "cell_type": "code",
   "execution_count": 12,
   "id": "fd13fd10",
   "metadata": {},
   "outputs": [],
   "source": [
    "def run(arr, target) -> int :\n",
    "    if not arr:\n",
    "        return -1\n",
    "    return binary_search_recursive(arr, target, 0, len(arr) - 1)"
   ]
  },
  {
   "cell_type": "code",
   "execution_count": 15,
   "id": "912ba0ee",
   "metadata": {},
   "outputs": [
    {
     "name": "stdout",
     "output_type": "stream",
     "text": [
      "Ket qua tim kiem: -1\n",
      "Do thoi gian tim kiem:  0.005142399999385816\n"
     ]
    }
   ],
   "source": [
    "import timeit\n",
    "import random\n",
    "\n",
    "arr2 = [random.randint(-10, 100) for _ in range(10000)]\n",
    "arr2.sort()\n",
    "\n",
    "def a() -> int:\n",
    "    return run(arr2, random.randint(-100, 1000))\n",
    "\n",
    "exe_time = timeit.timeit(a, number=1000)\n",
    "print(f\"Ket qua tim kiem: {a()}\")\n",
    "print(\"Do thoi gian tim kiem: \", exe_time)\n"
   ]
  }
 ],
 "metadata": {
  "kernelspec": {
   "display_name": "Python 3",
   "language": "python",
   "name": "python3"
  },
  "language_info": {
   "codemirror_mode": {
    "name": "ipython",
    "version": 3
   },
   "file_extension": ".py",
   "mimetype": "text/x-python",
   "name": "python",
   "nbconvert_exporter": "python",
   "pygments_lexer": "ipython3",
   "version": "3.11.9"
  }
 },
 "nbformat": 4,
 "nbformat_minor": 5
}
