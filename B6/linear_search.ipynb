{
 "cells": [
  {
   "cell_type": "markdown",
   "id": "ef1ecf59",
   "metadata": {},
   "source": [
    "Duyệt qua từng phần tử trong danh sách -> kiểm tra giá trị -> return index \n",
    "<br>\n",
    "Không tìm thấy -> return -1"
   ]
  },
  {
   "cell_type": "code",
   "execution_count": 1,
   "id": "2677dfb5",
   "metadata": {},
   "outputs": [],
   "source": [
    "def linear_search(arr, target) -> int:\n",
    "    # danh sach rong\n",
    "    if not arr:\n",
    "        return -1\n",
    "    # duyet phan tu\n",
    "    for index, value in enumerate(arr):\n",
    "        # neu tim thay phan tu\n",
    "        if value == target:\n",
    "            return index\n",
    "    # ket thuc vong for -> k tim thay\n",
    "    return -1\n"
   ]
  },
  {
   "cell_type": "code",
   "execution_count": 6,
   "id": "31834b83",
   "metadata": {},
   "outputs": [
    {
     "name": "stdout",
     "output_type": "stream",
     "text": [
      "Bat dau chay ham\n"
     ]
    },
    {
     "ename": "NameError",
     "evalue": "name 'time' is not defined",
     "output_type": "error",
     "traceback": [
      "\u001b[31m---------------------------------------------------------------------------\u001b[39m",
      "\u001b[31mNameError\u001b[39m                                 Traceback (most recent call last)",
      "\u001b[36mCell\u001b[39m\u001b[36m \u001b[39m\u001b[32mIn[6]\u001b[39m\u001b[32m, line 13\u001b[39m\n\u001b[32m     11\u001b[39m \u001b[38;5;66;03m# test\u001b[39;00m\n\u001b[32m     12\u001b[39m arr = [\u001b[32m100\u001b[39m, \u001b[32m1000\u001b[39m, \u001b[32m9\u001b[39m, \u001b[32m21\u001b[39m, \u001b[32m545\u001b[39m, \u001b[32m323\u001b[39m, \u001b[32m4544\u001b[39m, \u001b[32m878\u001b[39m, \u001b[32m767\u001b[39m, \u001b[32m86\u001b[39m, -\u001b[32m1\u001b[39m, -\u001b[32m1009\u001b[39m, \u001b[32m0\u001b[39m]\n\u001b[32m---> \u001b[39m\u001b[32m13\u001b[39m \u001b[43mrunning_time\u001b[49m\u001b[43m(\u001b[49m\u001b[38;5;28;43;01mlambda\u001b[39;49;00m\u001b[43m:\u001b[49m\u001b[43m \u001b[49m\u001b[43mlinear_search\u001b[49m\u001b[43m(\u001b[49m\u001b[43marr\u001b[49m\u001b[43m,\u001b[49m\u001b[32;43m100\u001b[39;49m\u001b[43m)\u001b[49m\u001b[43m)\u001b[49m\n\u001b[32m     14\u001b[39m running_time(\u001b[38;5;28;01mlambda\u001b[39;00m: linear_search(arr, -\u001b[32m5555\u001b[39m))\n\u001b[32m     15\u001b[39m running_time(\u001b[38;5;28;01mlambda\u001b[39;00m: linear_search([], \u001b[32m0\u001b[39m))\n",
      "\u001b[36mFile \u001b[39m\u001b[32md:\\code python toan khoa\\python web 4\\running_time.py:3\u001b[39m, in \u001b[36mrunning_time\u001b[39m\u001b[34m(func)\u001b[39m\n\u001b[32m      1\u001b[39m \u001b[38;5;28;01mdef\u001b[39;00m\u001b[38;5;250m \u001b[39m\u001b[34mrunning_time\u001b[39m(func) -> \u001b[38;5;28;01mNone\u001b[39;00m:\n\u001b[32m      2\u001b[39m     \u001b[38;5;28mprint\u001b[39m(\u001b[33m\"\u001b[39m\u001b[33mBat dau chay ham\u001b[39m\u001b[33m\"\u001b[39m)\n\u001b[32m----> \u001b[39m\u001b[32m3\u001b[39m     start_time = \u001b[43mtime\u001b[49m.time()  \u001b[38;5;66;03m# lay thoi gian hien tai\u001b[39;00m\n\u001b[32m      4\u001b[39m     result = func()\n\u001b[32m      5\u001b[39m     end_time = time.time()\n",
      "\u001b[31mNameError\u001b[39m: name 'time' is not defined"
     ]
    }
   ],
   "source": [
    "import sys\n",
    "import os\n",
    "\n",
    "# them duong dan cho thu muc running_time.py\n",
    "module_path = os.path.abspath(os.path.join(os.path.dirname('../running_time')))\n",
    "if module_path not in sys.path:\n",
    "    sys.path.append(module_path)\n",
    "\n",
    "from running_time import running_time\n",
    "\n",
    "# test\n",
    "arr = [100, 1000, 9, 21, 545, 323, 4544, 878, 767, 86, -1, -1009, 0]\n",
    "running_time(lambda: linear_search(arr,100))\n",
    "running_time(lambda: linear_search(arr, -5555))\n",
    "running_time(lambda: linear_search([], 0))\n"
   ]
  }
 ],
 "metadata": {
  "kernelspec": {
   "display_name": "Python 3",
   "language": "python",
   "name": "python3"
  },
  "language_info": {
   "codemirror_mode": {
    "name": "ipython",
    "version": 3
   },
   "file_extension": ".py",
   "mimetype": "text/x-python",
   "name": "python",
   "nbconvert_exporter": "python",
   "pygments_lexer": "ipython3",
   "version": "3.11.9"
  }
 },
 "nbformat": 4,
 "nbformat_minor": 5
}
