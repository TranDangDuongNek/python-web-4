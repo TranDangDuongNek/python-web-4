{
 "cells": [
  {
   "cell_type": "markdown",
   "id": "8e54c2a6",
   "metadata": {},
   "source": [
    "- Thuật toán noi bọt 0(n^2) \n",
    "- Chạy vòng lập + bắt cập -> swap ngay trong vòng"
   ]
  },
  {
   "cell_type": "code",
   "execution_count": 1,
   "id": "de002654",
   "metadata": {},
   "outputs": [],
   "source": [
    "def bubble_sort(arr) :\n",
    "    for i in range(len(arr)):\n",
    "        swapped = False  # bien kiem tra co thay doi khong\n",
    "        for j in range(0, len(arr) - i - 1):\n",
    "            if arr[j] > arr[j+1]:\n",
    "                # swap\n",
    "                arr[j], arr[j+1] = arr[j+1], arr[j]\n",
    "                swapped = True\n",
    "        if not swapped:\n",
    "            break\n",
    "    return arr\n"
   ]
  },
  {
   "cell_type": "code",
   "execution_count": 2,
   "id": "0cec1373",
   "metadata": {},
   "outputs": [
    {
     "name": "stdout",
     "output_type": "stream",
     "text": [
      "[205, 43, 472, 909, 656, 600, 564, 515, 770, 465]\n",
      "[0, 1, 2, 3, 4, 5, 6, 7, 8, 9]\n",
      "Time: 0.1928 s\n"
     ]
    }
   ],
   "source": [
    "import random\n",
    "import timeit\n",
    "\n",
    "arr = random.sample(range(1000), 1000)\n",
    "print(arr[:10])\n",
    "\n",
    "exc_time = timeit.timeit(lambda: bubble_sort(arr), number=1000)\n",
    "print(bubble_sort(arr)[:10])\n",
    "\n",
    "print(f\"Time: {exc_time:.4f} s\")\n"
   ]
  }
 ],
 "metadata": {
  "kernelspec": {
   "display_name": "Python 3",
   "language": "python",
   "name": "python3"
  },
  "language_info": {
   "codemirror_mode": {
    "name": "ipython",
    "version": 3
   },
   "file_extension": ".py",
   "mimetype": "text/x-python",
   "name": "python",
   "nbconvert_exporter": "python",
   "pygments_lexer": "ipython3",
   "version": "3.11.9"
  }
 },
 "nbformat": 4,
 "nbformat_minor": 5
}
