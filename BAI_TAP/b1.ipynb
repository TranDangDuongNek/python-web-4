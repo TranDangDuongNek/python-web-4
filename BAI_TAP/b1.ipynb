{
 "cells": [
  {
   "cell_type": "code",
   "execution_count": null,
   "id": "b5a13d2c",
   "metadata": {},
   "outputs": [],
   "source": [
    "\n",
    "n = int(input(\"nhập nguyên dương --> \"))\n",
    "\n",
    "\n",
    "tong_le = 0\n",
    "i = 1\n",
    "while i <= n:\n",
    "    if i % 2 != 0:\n",
    "        tong_le = tong_le + i\n",
    "    i = i + 1\n",
    "print(\"Tổng các số lẻ từ 1 đến\", n, \"is:\", tong_le)\n",
    "\n",
    "\n",
    "nguyen_to = True\n",
    "if n < 2:\n",
    "    nguyen_to = False\n",
    "else:\n",
    "    j = 2\n",
    "    while j * j <= n:\n",
    "        if n % j == 0:\n",
    "            nguyen_to = False\n",
    "            break\n",
    "        j = j + 1\n",
    "\n",
    "if nguyen_to:\n",
    "    print(n, \"yes sir số nguyên tố!\")\n",
    "else:\n",
    "    print(n, \"hmmm sai rồi fen not nguyên tố\")\n",
    "\n",
    "\n",
    "print(\"các ước của\", n, \"is:\", end=\" \")\n",
    "u = 1\n",
    "while u <= n:\n",
    "    if n % u == 0:\n",
    "        print(u, end=\"; \")\n",
    "    u = u + 1\n"
   ]
  },
  {
   "cell_type": "code",
   "execution_count": null,
   "id": "81de5c3f",
   "metadata": {},
   "outputs": [],
   "source": []
  }
 ],
 "metadata": {
  "kernelspec": {
   "display_name": "Python 3",
   "language": "python",
   "name": "python3"
  },
  "language_info": {
   "codemirror_mode": {
    "name": "ipython",
    "version": 3
   },
   "file_extension": ".py",
   "mimetype": "text/x-python",
   "name": "python",
   "nbconvert_exporter": "python",
   "pygments_lexer": "ipython3",
   "version": "3.11.9"
  }
 },
 "nbformat": 4,
 "nbformat_minor": 5
}
