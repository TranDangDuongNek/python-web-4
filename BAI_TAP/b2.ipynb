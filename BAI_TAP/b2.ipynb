{
 "cells": [
  {
   "cell_type": "code",
   "execution_count": null,
   "id": "9c655104",
   "metadata": {},
   "outputs": [],
   "source": [
    "\n",
    "ds = input(\"Nhập các số nguyên, cách nhau bằng dấu cách: \")\n",
    "\n",
    "\n",
    "so_nguyen = list(map(int, ds.split()))\n",
    "\n",
    "\n",
    "so_chan = []\n",
    "for x in so_nguyen:\n",
    "    if x % 2 == 0:\n",
    "        so_chan.append(x)\n",
    "\n",
    "\n",
    "if len(so_chan) > 0:\n",
    "    trung_binh = sum(so_chan) / len(so_chan)\n",
    "    print(\"Trung bình các số chẵn là:\", trung_binh)\n",
    "else:\n",
    "    print(\"Không có số chẵn nào trong danh sách.\")\n"
   ]
  }
 ],
 "metadata": {
  "language_info": {
   "name": "python"
  }
 },
 "nbformat": 4,
 "nbformat_minor": 5
}
