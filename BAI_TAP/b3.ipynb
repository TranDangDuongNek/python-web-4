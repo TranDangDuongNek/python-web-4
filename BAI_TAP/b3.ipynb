{
 "cells": [
  {
   "cell_type": "code",
   "execution_count": null,
   "id": "70d5fae9",
   "metadata": {},
   "outputs": [
    {
     "name": "stdout",
     "output_type": "stream",
     "text": [
      "Số tài khoản: 123456\n",
      "Chủ tài khoản: Nguyễn Văn A\n",
      "Số dư: 5000000 VND\n",
      "Nạp 2000000 VND thành công.\n",
      "Rút 3000000 VND thành công.\n",
      "Số tài khoản: 123456\n",
      "Chủ tài khoản: Nguyễn Văn A\n",
      "Số dư: 4000000 VND\n",
      "-------------------\n",
      "Số tài khoản: 7891011\n",
      "Chủ tài khoản: Trần Thị B\n",
      "Số dư: 10000000 VND\n",
      "Đã cộng lãi 500000.0 VND. Số dư mới: 10500000.0 VND\n",
      "Số tài khoản: 7891011\n",
      "Chủ tài khoản: Trần Thị B\n",
      "Số dư: 10500000.0 VND\n"
     ]
    }
   ],
   "source": [
    "\n",
    "class TaiKhoan:\n",
    "    def __init__(self, so_tai_khoan, ten_chu_tai_khoan, so_du):\n",
    "        self.so_tai_khoan = so_tai_khoan\n",
    "        self.ten_chu_tai_khoan = ten_chu_tai_khoan\n",
    "        self.so_du = so_du\n",
    "\n",
    "    def hien_thi_thong_tin(self):\n",
    "        print(\"Số tài khoản:\", self.so_tai_khoan)\n",
    "        print(\"Chủ tài khoản:\", self.ten_chu_tai_khoan)\n",
    "        print(\"Số dư:\", self.so_du, \"$\")\n",
    "\n",
    "class TaiKhoanChinh(TaiKhoan):\n",
    "    def rut_tien(self, so_tien):\n",
    "        if so_tien <= self.so_du:\n",
    "            self.so_du -= so_tien\n",
    "            print(f\"Rút {so_tien} $ thành công.\")\n",
    "        else:\n",
    "            print(\"Không đủ số dư để rút tiền.\")\n",
    "\n",
    "    def nap_tien(self, so_tien):\n",
    "        self.so_du += so_tien\n",
    "        print(f\"Nạp {so_tien} $ thành công.\")\n",
    "\n",
    "\n",
    "class TaiKhoanTietKiem(TaiKhoan):\n",
    "    def tinh_lai(self, lai_suat):\n",
    "        lai = self.so_du * lai_suat / 100\n",
    "        self.so_du += lai\n",
    "        print(f\"Đã cộng lãi {lai} $. Số dư còn lại!: {self.so_du} $\")\n",
    "\n",
    "\n",
    "tk1 = TaiKhoanChinh(\"098...\", \"Chủ Tịch 7\", 5000000)\n",
    "tk1.hien_thi_thong_tin()\n",
    "tk1.nap_tien(2000000)\n",
    "tk1.rut_tien(3000000)\n",
    "tk1.hien_thi_thong_tin()\n",
    "\n",
    "print(\"-------------------\")\n",
    "\n",
    "tk2 = TaiKhoanTietKiem(\"095...\", \"mr.BEAST!\", 10000000)\n",
    "tk2.hien_thi_thong_tin()\n",
    "tk2.tinh_lai(5)\n",
    "tk2.hien_thi_thong_tin()\n"
   ]
  }
 ],
 "metadata": {
  "kernelspec": {
   "display_name": "Python 3",
   "language": "python",
   "name": "python3"
  },
  "language_info": {
   "codemirror_mode": {
    "name": "ipython",
    "version": 3
   },
   "file_extension": ".py",
   "mimetype": "text/x-python",
   "name": "python",
   "nbconvert_exporter": "python",
   "pygments_lexer": "ipython3",
   "version": "3.11.9"
  }
 },
 "nbformat": 4,
 "nbformat_minor": 5
}
