{
 "cells": [
  {
   "cell_type": "code",
   "execution_count": null,
   "id": "d83607e1",
   "metadata": {},
   "outputs": [],
   "source": [
    "\n",
    "nums1 = [1, 2, 3]\n",
    "nums2 = [2, 5, 6]\n",
    "result = []\n",
    "i = 0\n",
    "j = 0\n",
    "while i < len(nums1) and j < len(nums2):\n",
    "    if nums1[i] < nums2[j]:\n",
    "        result.append(nums1[i])\n",
    "        i = i + 1\n",
    "    else:\n",
    "        result.append(nums2[j])\n",
    "        j = j + 1\n",
    "while i < len(nums1):\n",
    "    result.append(nums1[i])\n",
    "    i = i + 1\n",
    "while j < len(nums2):\n",
    "    result.append(nums2[j])\n",
    "    j = j + 1\n",
    "print(result)\n"
   ]
  }
 ],
 "metadata": {
  "language_info": {
   "name": "python"
  }
 },
 "nbformat": 4,
 "nbformat_minor": 5
}
